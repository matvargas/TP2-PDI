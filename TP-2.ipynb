{
 "cells": [
  {
   "cell_type": "code",
   "execution_count": 50,
   "metadata": {},
   "outputs": [
    {
     "name": "stdout",
     "output_type": "stream",
     "text": [
      "Carregando 4177 arquivos de MNIST/2\n",
      "Serão utilizados 3759.3 arquivos para treinamento (90% do total)\n",
      "Carregando 4132 arquivos de MNIST/0\n",
      "Serão utilizados 3718.8 arquivos para treinamento (90% do total)\n"
     ]
    },
    {
     "ename": "ValueError",
     "evalue": "negative dimensions are not allowed",
     "output_type": "error",
     "traceback": [
      "\u001b[0;31m---------------------------------------------------------------------------\u001b[0m",
      "\u001b[0;31mValueError\u001b[0m                                Traceback (most recent call last)",
      "\u001b[0;32m<ipython-input-50-d8cdbfc48f3b>\u001b[0m in \u001b[0;36m<module>\u001b[0;34m()\u001b[0m\n\u001b[1;32m     45\u001b[0m \u001b[0;34m\u001b[0m\u001b[0m\n\u001b[1;32m     46\u001b[0m \u001b[0;32mfor\u001b[0m \u001b[0mimage\u001b[0m \u001b[0;32min\u001b[0m \u001b[0mdata_tst\u001b[0m\u001b[0;34m:\u001b[0m\u001b[0;34m\u001b[0m\u001b[0m\n\u001b[0;32m---> 47\u001b[0;31m     \u001b[0mfd\u001b[0m\u001b[0;34m,\u001b[0m\u001b[0mhog_image\u001b[0m \u001b[0;34m=\u001b[0m \u001b[0mhog\u001b[0m\u001b[0;34m(\u001b[0m\u001b[0mimage\u001b[0m\u001b[0;34m,\u001b[0m \u001b[0morientations\u001b[0m\u001b[0;34m=\u001b[0m\u001b[0;36m8\u001b[0m\u001b[0;34m,\u001b[0m \u001b[0mpixels_per_cell\u001b[0m\u001b[0;34m=\u001b[0m\u001b[0;34m(\u001b[0m\u001b[0mppc\u001b[0m\u001b[0;34m,\u001b[0m\u001b[0mppc\u001b[0m\u001b[0;34m)\u001b[0m\u001b[0;34m,\u001b[0m\u001b[0mcells_per_block\u001b[0m\u001b[0;34m=\u001b[0m\u001b[0;34m(\u001b[0m\u001b[0;36m4\u001b[0m\u001b[0;34m,\u001b[0m \u001b[0;36m4\u001b[0m\u001b[0;34m)\u001b[0m\u001b[0;34m,\u001b[0m\u001b[0mblock_norm\u001b[0m\u001b[0;34m=\u001b[0m \u001b[0;34m'L2'\u001b[0m\u001b[0;34m,\u001b[0m\u001b[0mvisualise\u001b[0m\u001b[0;34m=\u001b[0m\u001b[0;32mTrue\u001b[0m\u001b[0;34m)\u001b[0m\u001b[0;34m\u001b[0m\u001b[0m\n\u001b[0m\u001b[1;32m     48\u001b[0m     \u001b[0mhog_images\u001b[0m\u001b[0;34m.\u001b[0m\u001b[0mappend\u001b[0m\u001b[0;34m(\u001b[0m\u001b[0mhog_image\u001b[0m\u001b[0;34m)\u001b[0m\u001b[0;34m\u001b[0m\u001b[0m\n\u001b[1;32m     49\u001b[0m     \u001b[0mhog_features\u001b[0m\u001b[0;34m.\u001b[0m\u001b[0mappend\u001b[0m\u001b[0;34m(\u001b[0m\u001b[0mfd\u001b[0m\u001b[0;34m)\u001b[0m\u001b[0;34m\u001b[0m\u001b[0m\n",
      "\u001b[0;32m~/anaconda3/lib/python3.6/site-packages/skimage/feature/_hog.py\u001b[0m in \u001b[0;36mhog\u001b[0;34m(image, orientations, pixels_per_cell, cells_per_block, block_norm, visualise, transform_sqrt, feature_vector, normalise)\u001b[0m\n\u001b[1;32m    229\u001b[0m     \u001b[0mn_blocksy\u001b[0m \u001b[0;34m=\u001b[0m \u001b[0;34m(\u001b[0m\u001b[0mn_cellsy\u001b[0m \u001b[0;34m-\u001b[0m \u001b[0mby\u001b[0m\u001b[0;34m)\u001b[0m \u001b[0;34m+\u001b[0m \u001b[0;36m1\u001b[0m\u001b[0;34m\u001b[0m\u001b[0m\n\u001b[1;32m    230\u001b[0m     normalized_blocks = np.zeros((n_blocksy, n_blocksx,\n\u001b[0;32m--> 231\u001b[0;31m                                   by, bx, orientations))\n\u001b[0m\u001b[1;32m    232\u001b[0m \u001b[0;34m\u001b[0m\u001b[0m\n\u001b[1;32m    233\u001b[0m     \u001b[0;32mfor\u001b[0m \u001b[0mx\u001b[0m \u001b[0;32min\u001b[0m \u001b[0mrange\u001b[0m\u001b[0;34m(\u001b[0m\u001b[0mn_blocksx\u001b[0m\u001b[0;34m)\u001b[0m\u001b[0;34m:\u001b[0m\u001b[0;34m\u001b[0m\u001b[0m\n",
      "\u001b[0;31mValueError\u001b[0m: negative dimensions are not allowed"
     ]
    }
   ],
   "source": [
    "import numpy as np\n",
    "import os\n",
    "from skimage import color\n",
    "from skimage.feature import hog\n",
    "from PIL import Image\n",
    "from matplotlib import pyplot as plt\n",
    "\n",
    "#Porcentagem de arquivos que serão utilizados no treinamento\n",
    "CONST_PCT = 90\n",
    "\n",
    "# Caminhos dos arquivos que devem ser carregados\n",
    "# Para o funcionamento correto a pasta MNIST deve estar no mesmo diretório do notebook\n",
    "dict_paths = {\"first_path\" : 'MNIST/2',\n",
    "             \"second_path\" : 'MNIST/0'}\n",
    "\n",
    "#Conjunto de arquivos para o treinamento\n",
    "dict_tst_files = {}\n",
    "#Conjunto de arquivos para prova\n",
    "dict_proof_files = {}\n",
    "\n",
    "# Iteração para carregar os arquivos que deverão ser tratados\n",
    "for key, value in dict_paths.items():\n",
    "    for root, dirs, files in os.walk(value, topdown=False):\n",
    "        # Determina o número de arquivos que serão usados como prova\n",
    "        NUM_FILES = (len(files) * CONST_PCT)/100\n",
    "        print('Carregando ' + str(len(files)) + ' arquivos de ' + root)\n",
    "        print('Serão utilizados ' + str(NUM_FILES) + ' arquivos para treinamento (' + str(CONST_PCT) + '% do total)')\n",
    "        i = 0\n",
    "        proof_file_index = 0\n",
    "        for name in files:\n",
    "            if i < NUM_FILES:\n",
    "                dict_tst_files[value + \"-\" + str(i)] = color.rgb2gray(np.array(Image.open(os.path.join(root, name))))\n",
    "            elif i >= NUM_FILES:\n",
    "                dict_proof_files[value + \"-\" + str(proof_file_index)] = color.rgb2gray(np.array(Image.open(os.path.join(root, name))))\n",
    "                proof_file_index = proof_file_index + 1\n",
    "            i = i + 1\n",
    "\n",
    "data_tst = []\n",
    "for key, value in dict_tst_files.items():\n",
    "    data_tst.append(value)\n",
    "\n",
    "ppc = 16\n",
    "hog_images = []\n",
    "hog_features = []\n",
    "\n",
    "for image in data_tst:\n",
    "    fd,hog_image = hog(image, orientations=8, pixels_per_cell=(ppc,ppc),cells_per_block=(4, 4),block_norm= 'L2',visualise=True)\n",
    "    hog_images.append(hog_image)\n",
    "    hog_features.append(fd)"
   ]
  },
  {
   "cell_type": "code",
   "execution_count": null,
   "metadata": {},
   "outputs": [],
   "source": []
  }
 ],
 "metadata": {
  "kernelspec": {
   "display_name": "Python 3",
   "language": "python",
   "name": "python3"
  },
  "language_info": {
   "codemirror_mode": {
    "name": "ipython",
    "version": 3
   },
   "file_extension": ".py",
   "mimetype": "text/x-python",
   "name": "python",
   "nbconvert_exporter": "python",
   "pygments_lexer": "ipython3",
   "version": "3.6.4"
  }
 },
 "nbformat": 4,
 "nbformat_minor": 2
}
