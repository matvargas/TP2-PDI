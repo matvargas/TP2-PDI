{
 "cells": [
  {
   "cell_type": "code",
   "execution_count": 18,
   "metadata": {},
   "outputs": [
    {
     "name": "stdout",
     "output_type": "stream",
     "text": [
      "Carregando 4177 arquivos de MNIST/2\n",
      "Serão utilizados 3759.3 arquivos para treinamento (90% do total)\n",
      "Carregando 4132 arquivos de MNIST/0\n",
      "Serão utilizados 3718.8 arquivos para treinamento (90% do total)\n"
     ]
    },
    {
     "data": {
      "text/plain": [
       "<matplotlib.image.AxesImage at 0x7fc20acafef0>"
      ]
     },
     "execution_count": 18,
     "metadata": {},
     "output_type": "execute_result"
    },
    {
     "data": {
      "image/png": "[encoded data removed]",
      "text/plain": [
       "<matplotlib.figure.Figure at 0x7fc20cf6fb00>"
      ]
     },
     "metadata": {},
     "output_type": "display_data"
    }
   ],
   "source": [
    "import numpy as np\n",
    "import os\n",
    "from skimage import color\n",
    "from PIL import Image\n",
    "from matplotlib import pyplot as plt\n",
    "\n",
    "#Porcentagem de arquivos que serão utilizados no treinamento\n",
    "CONST_PCT = 90\n",
    "\n",
    "# Caminhos dos arquivos que devem ser carregados\n",
    "# Para o funcionamento correto a pasta MNIST deve estar no mesmo diretório do notebook\n",
    "dict_paths = {\"first_path\" : 'MNIST/2',\n",
    "             \"second_path\" : 'MNIST/0'}\n",
    "\n",
    "#Conjunto de arquivos para o treinamento\n",
    "dict_tst_files = {}\n",
    "#Conjunto de arquivos para prova\n",
    "dict_proof_files = {}\n",
    "\n",
    "# Iteração para carregar os arquivos que deverão ser tratados\n",
    "for key, value in dict_paths.items():\n",
    "    for root, dirs, files in os.walk(value, topdown=False):\n",
    "        # Determina o número de arquivos que serão usados como prova\n",
    "        NUM_FILES = (len(files) * CONST_PCT)/100\n",
    "        print('Carregando ' + str(len(files)) + ' arquivos de ' + root)\n",
    "        print('Serão utilizados ' + str(NUM_FILES) + ' arquivos para treinamento (' + str(CONST_PCT) + '% do total)')\n",
    "        i = 0\n",
    "        proof_file_index = 0\n",
    "        for name in files:\n",
    "            if i < NUM_FILES:\n",
    "                dict_tst_files[value + \"-\" + str(i)] = color.rgb2gray(np.array(Image.open(os.path.join(root, name))))\n",
    "            elif i >= NUM_FILES:\n",
    "                dict_proof_files[value + \"-\" + str(proof_file_index)] = color.rgb2gray(np.array(Image.open(os.path.join(root, name))))\n",
    "                proof_file_index = proof_file_index + 1\n",
    "            i = i + 1\n",
    "\n",
    "plt.imshow(dict_tst_files['MNIST/2-2'])\n"
   ]
  },
  {
   "cell_type": "code",
   "execution_count": null,
   "metadata": {},
   "outputs": [],
   "source": []
  }
 ],
 "metadata": {
  "kernelspec": {
   "display_name": "Python 3",
   "language": "python",
   "name": "python3"
  },
  "language_info": {
   "codemirror_mode": {
    "name": "ipython",
    "version": 3
   },
   "file_extension": ".py",
   "mimetype": "text/x-python",
   "name": "python",
   "nbconvert_exporter": "python",
   "pygments_lexer": "ipython3",
   "version": "3.6.4"
  }
 },
 "nbformat": 4,
 "nbformat_minor": 2
}
