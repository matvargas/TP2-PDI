{
 "cells": [
  {
   "cell_type": "code",
   "execution_count": 42,
   "metadata": {},
   "outputs": [],
   "source": [
    "import numpy as np\n",
    "import os\n",
    "from PIL import Image\n",
    "\n",
    "#Porcentagem de arquivos que serão utilizados no treinamento\n",
    "CONST_PCT = 90\n",
    "\n",
    "# Caminhos dos arquivos que devem ser carregados\n",
    "# Para o funcionamento correto a pasta MNIST deve estar no mesmo diretório do notebook\n",
    "dict_paths = {\"first_path\" : 'MNIST/2',\n",
    "             \"second_path\" : 'MNIST/0'}\n",
    "\n",
    "#Conjunto de arquivos para o treinamento\n",
    "dict_tst_files = {}\n",
    "#Conjunto de arquivos para prova\n",
    "dict_proof_files = {}\n",
    "\n",
    "# Iteração para carregar os arquivos que deverão ser tratados\n",
    "for key, value in dict_paths.items():\n",
    "    for root, dirs, files in os.walk(value, topdown=False):\n",
    "        # Determina o número de arquivos que serão usados como prova\n",
    "        NUM_FILES = (len(files) * CONST_PCT)/100\n",
    "        i = 0\n",
    "        proof_file_index = 0\n",
    "        for name in files:\n",
    "            if i < NUM_FILES:\n",
    "                dict_tst_files[value + \"-\" + str(i)] = np.array(Image.open(os.path.join(root, name)))\n",
    "            elif i >= NUM_FILES:\n",
    "                dict_proof_files[value + \"-\" + str(proof_file_index)] = np.array(Image.open(os.path.join(root, name)))\n",
    "                proof_file_index = proof_file_index + 1\n",
    "            i = i + 1"
   ]
  },
  {
   "cell_type": "code",
   "execution_count": null,
   "metadata": {},
   "outputs": [],
   "source": []
  }
 ],
 "metadata": {
  "kernelspec": {
   "display_name": "Python 3",
   "language": "python",
   "name": "python3"
  },
  "language_info": {
   "codemirror_mode": {
    "name": "ipython",
    "version": 3
   },
   "file_extension": ".py",
   "mimetype": "text/x-python",
   "name": "python",
   "nbconvert_exporter": "python",
   "pygments_lexer": "ipython3",
   "version": "3.6.4"
  }
 },
 "nbformat": 4,
 "nbformat_minor": 2
}
