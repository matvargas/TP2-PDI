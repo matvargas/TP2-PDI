{
 "cells": [
  {
   "cell_type": "code",
   "execution_count": 55,
   "metadata": {},
   "outputs": [
    {
     "name": "stdout",
     "output_type": "stream",
     "text": [
      "Carregando 4177 arquivos de MNIST/2\n",
      "Carregando 4132 arquivos de MNIST/0\n"
     ]
    }
   ],
   "source": [
    "import numpy as np\n",
    "import os\n",
    "from skimage import color\n",
    "from skimage.feature import hog\n",
    "from PIL import Image\n",
    "from matplotlib import pyplot as plt\n",
    "\n",
    "#Porcentagem de arquivos que serão utilizados no treinamento\n",
    "CONST_PCT = 90\n",
    "\n",
    "# Caminhos dos arquivos que devem ser carregados\n",
    "# Para o funcionamento correto a pasta MNIST deve estar no mesmo diretório do notebook\n",
    "dict_paths = {\"first_path\" : 'MNIST/2',\n",
    "             \"second_path\" : 'MNIST/0'}\n",
    "\n",
    "#Conjunto de arquivos para o treinamento\n",
    "dict_tst_files = {}\n",
    "#Conjunto de arquivos para prova\n",
    "dict_proof_files = {}\n",
    "\n",
    "# Iteração para carregar os arquivos que deverão ser tratados\n",
    "for key, value in dict_paths.items():\n",
    "    for root, dirs, files in os.walk(value, topdown=False):\n",
    "        print('Carregando ' + str(len(files)) + ' arquivos de ' + root)\n",
    "        i = 0\n",
    "        proof_file_index = 0\n",
    "        for name in files:\n",
    "            dict_tst_files[value + \"-\" + str(i)] = color.rgb2gray(np.array(Image.open(os.path.join(root, name))))\n",
    "            i = i + 1\n",
    "\n",
    "\n",
    "hog_images = []\n",
    "hog_features = []\n",
    "\n",
    "for key, value in dict_tst_files.items():\n",
    "    fd,hog_image = hog(value, orientations=8, cells_per_block=(4, 4),block_norm= 'L2',visualise=True)\n",
    "    hog_images.append(hog_image)\n",
    "    hog_features.append(fd)"
   ]
  },
  {
   "cell_type": "code",
   "execution_count": null,
   "metadata": {},
   "outputs": [],
   "source": []
  }
 ],
 "metadata": {
  "kernelspec": {
   "display_name": "Python 3",
   "language": "python",
   "name": "python3"
  },
  "language_info": {
   "codemirror_mode": {
    "name": "ipython",
    "version": 3
   },
   "file_extension": ".py",
   "mimetype": "text/x-python",
   "name": "python",
   "nbconvert_exporter": "python",
   "pygments_lexer": "ipython3",
   "version": "3.6.4"
  }
 },
 "nbformat": 4,
 "nbformat_minor": 2
}
